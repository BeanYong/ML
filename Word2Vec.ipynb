{
 "cells": [
  {
   "cell_type": "markdown",
   "metadata": {},
   "source": [
    "### 切词，并把切好的词保存到文件中"
   ]
  },
  {
   "cell_type": "code",
   "execution_count": 1,
   "metadata": {},
   "outputs": [],
   "source": [
    "def cut_words(origin_path, seg_path):\n",
    "    '''\n",
    "    切词，并把切好的词保存到文件中\n",
    "    :origin_path 原始文本路径\n",
    "    :seg_path 切好词后的文本保存路径\n",
    "    '''\n",
    "    import jieba\n",
    "\n",
    "    with open(origin_path,'rb') as f:\n",
    "        document  = f.read()\n",
    "        document_cut = jieba.cut(document, cut_all =False)\n",
    "        # print('/'.join(document_cut))\n",
    "        result = ' '.join(document_cut)\n",
    "        result = result.encode('utf-8')           \n",
    "        with open(seg_path,'wb+') as f1:\n",
    "            f1.write(result)#读取的方式和写入的方式要一致\n",
    "    f.close()\n",
    "    f1.close()"
   ]
  },
  {
   "cell_type": "markdown",
   "metadata": {},
   "source": [
    "### 使用word2vec训练得出词向量，并返回"
   ]
  },
  {
   "cell_type": "code",
   "execution_count": 2,
   "metadata": {},
   "outputs": [],
   "source": [
    "def w2v(seg_path, model_path):\n",
    "    '''\n",
    "    使用word2vec训练得出词向量，并返回\n",
    "    :seg_path 分词后的文本保存路径\n",
    "    :model_path 模型保存路径\n",
    "    :return 训练好的模型\n",
    "    '''\n",
    "    from gensim.models import word2vec\n",
    "    \n",
    "    # 使用Ttext2Corpus类加载分词后的文本\n",
    "    sentences = word2vec.Text8Corpus(seg_path)\n",
    "    # 训练模型\n",
    "    model  = word2vec.Word2Vec(sentences, size=100, hs=1, min_count=1, window=3)\n",
    "    # 保存模型\n",
    "    model.save(model_path)\n",
    "    return model"
   ]
  },
  {
   "cell_type": "markdown",
   "metadata": {},
   "source": [
    "### 加载训练好的模型"
   ]
  },
  {
   "cell_type": "code",
   "execution_count": 3,
   "metadata": {},
   "outputs": [],
   "source": [
    "def load_model(model_path):\n",
    "    '''\n",
    "    加载训练好的模型\n",
    "    :model_path 模型保存路径\n",
    "    :return 加载到的word2vec模型\n",
    "    '''\n",
    "    from gensim.models import word2vec\n",
    "    return word2vec.Word2Vec.load(model_path)"
   ]
  },
  {
   "cell_type": "code",
   "execution_count": 4,
   "metadata": {},
   "outputs": [
    {
     "name": "stderr",
     "output_type": "stream",
     "text": [
      "Building prefix dict from the default dictionary ...\n",
      "Loading model from cache /tmp/jieba.cache\n",
      "Loading model cost 0.168 seconds.\n",
      "Prefix dict has been built succesfully.\n"
     ]
    },
    {
     "name": "stdout",
     "output_type": "stream",
     "text": [
      "[-1.6505637e-03 -3.3998720e-03  1.0265629e-03 -1.7260675e-03\n",
      "  3.4075826e-03  2.3544950e-03 -3.3103686e-03 -4.2839167e-03\n",
      " -1.4623058e-03  2.1523188e-03  7.5366150e-04  4.8724576e-03\n",
      " -4.2742132e-03 -1.0996771e-03  2.5720089e-03 -5.3104747e-04\n",
      " -3.3513962e-03 -4.3089269e-03 -7.5204991e-04 -3.6322135e-03\n",
      "  2.4498779e-05  2.4105241e-03  1.3389625e-03 -6.4274948e-04\n",
      "  1.1462485e-03 -1.0254171e-03  2.3259264e-03 -1.1944470e-03\n",
      " -1.7984301e-03  1.6001158e-03  4.2629689e-03  3.8752411e-04\n",
      "  3.2683592e-03 -3.9898162e-03  2.7465296e-03 -1.7919563e-03\n",
      " -7.7371503e-04 -1.8028897e-03 -3.5846534e-03 -2.8045571e-03\n",
      " -2.8334069e-03 -6.5411645e-04  2.1093716e-03 -1.6120247e-03\n",
      "  7.1445259e-04  6.9027237e-04  3.8261211e-03  3.1428295e-03\n",
      " -4.7569186e-03 -1.7900468e-03  3.2942255e-05 -1.6126178e-03\n",
      " -3.2078482e-03  3.6376638e-03 -2.9149654e-03  1.1147796e-03\n",
      "  3.9742733e-03 -4.3940148e-03 -3.4566971e-03  4.6155234e-03\n",
      " -5.0224629e-03  2.9614149e-03 -3.7506961e-03 -4.3587768e-03\n",
      "  1.7738793e-03  2.2611276e-03 -1.0887157e-03  1.3144879e-03\n",
      " -1.6387424e-03  3.5264778e-03  2.3650913e-03  2.0870636e-03\n",
      "  8.7186496e-04  2.3199685e-03  1.4627969e-03 -1.3665251e-03\n",
      " -1.6628617e-03  3.4207879e-03 -3.6638619e-03  4.8808139e-03\n",
      "  2.4575153e-03 -1.1342170e-03  3.7757340e-03 -2.5315906e-03\n",
      " -3.2717618e-03  3.8567972e-03  2.9943461e-04  4.1739130e-03\n",
      " -1.0115097e-03  1.9288006e-03  3.6700733e-04 -2.5436501e-03\n",
      "  1.3658534e-03  2.3474637e-03 -4.3493235e-03  2.3200770e-03\n",
      "  3.2366246e-03  3.1835623e-03 -2.9348806e-03  4.6242573e-03]\n",
      "CPU times: user 789 ms, sys: 831 ms, total: 1.62 s\n",
      "Wall time: 658 ms\n"
     ]
    }
   ],
   "source": [
    "%%time\n",
    "# 原始文本路径\n",
    "origin_path = '/home/beanyon/Desktop/word2vec/Sample/C01/0.txt'\n",
    "# 切好词后的文本保存路径\n",
    "seg_path = '/home/beanyon/Desktop/word2vec/Seg/0.txt'\n",
    "# 保存训练好的模型的路径\n",
    "model_path = '/home/beanyon/Desktop/word2vec/Seg/0.model'\n",
    "# 切词并保存\n",
    "cut_words(origin_path, seg_path)\n",
    "# 训练word2vec模型\n",
    "model = w2v(seg_path, model_path)\n",
    "# 加载训练好的模型\n",
    "# model = load_model(model_path)\n",
    "# 输出词向量\n",
    "print model.wv[u'训练']"
   ]
  }
 ],
 "metadata": {
  "kernelspec": {
   "display_name": "Python 2",
   "language": "python",
   "name": "python2"
  },
  "language_info": {
   "codemirror_mode": {
    "name": "ipython",
    "version": 2
   },
   "file_extension": ".py",
   "mimetype": "text/x-python",
   "name": "python",
   "nbconvert_exporter": "python",
   "pygments_lexer": "ipython2",
   "version": "2.7.15"
  }
 },
 "nbformat": 4,
 "nbformat_minor": 2
}
