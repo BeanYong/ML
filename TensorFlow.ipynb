{
 "cells": [
  {
   "cell_type": "markdown",
   "metadata": {},
   "source": [
    "### Hello TensorFlow"
   ]
  },
  {
   "cell_type": "code",
   "execution_count": 6,
   "metadata": {},
   "outputs": [
    {
     "name": "stdout",
     "output_type": "stream",
     "text": [
      "Hello TensorFlow\n"
     ]
    }
   ],
   "source": [
    "import tensorflow as tf\n",
    "\n",
    "# 构建一个常量\n",
    "hello = tf.constant('Hello TensorFlow')\n",
    "# 打开一个Session\n",
    "with tf.Session() as sess:\n",
    "    # 使用Session启动Graph\n",
    "    print sess.run(hello)"
   ]
  },
  {
   "cell_type": "markdown",
   "metadata": {},
   "source": [
    "### 加法、乘法"
   ]
  },
  {
   "cell_type": "code",
   "execution_count": 7,
   "metadata": {},
   "outputs": [
    {
     "name": "stdout",
     "output_type": "stream",
     "text": [
      "a = 2 , b = 3\n",
      "a + b = 5\n",
      "a * b = 6\n"
     ]
    }
   ],
   "source": [
    "import tensorflow as tf\n",
    "\n",
    "a = tf.constant(2)\n",
    "b = tf.constant(3)\n",
    "with tf.Session() as sess:\n",
    "    print 'a =', sess.run(a), ', b =', sess.run(b)\n",
    "    print 'a + b =', sess.run(a + b)\n",
    "    print 'a * b =', sess.run(a * b)"
   ]
  },
  {
   "cell_type": "markdown",
   "metadata": {},
   "source": [
    "### placeholder、feed_dict"
   ]
  },
  {
   "cell_type": "code",
   "execution_count": 10,
   "metadata": {},
   "outputs": [
    {
     "name": "stdout",
     "output_type": "stream",
     "text": [
      "a + b = 7\n",
      "a * b = 12\n"
     ]
    }
   ],
   "source": [
    "import tensorflow as tf\n",
    "\n",
    "a = tf.placeholder(tf.int16)\n",
    "b = tf.placeholder(tf.int16)\n",
    "\n",
    "add = tf.add(a, b)\n",
    "mul = tf.multiply(a, b)\n",
    "\n",
    "with tf.Session() as sess:\n",
    "    print 'a + b =', sess.run(add, feed_dict={a: 3, b: 4})\n",
    "    print 'a * b =', sess.run(mul, feed_dict={a: 3, b: 4})"
   ]
  },
  {
   "cell_type": "markdown",
   "metadata": {},
   "source": [
    "### 线性回归"
   ]
  },
  {
   "cell_type": "code",
   "execution_count": 38,
   "metadata": {},
   "outputs": [
    {
     "name": "stdout",
     "output_type": "stream",
     "text": [
      "Epoch: 1 cost= 19.37556 w= -0.7773946 b= 1.4821415\n",
      "Epoch: 201 cost= 0.11583861 w= 0.13971393 b= 1.5916307\n",
      "Epoch: 401 cost= 0.113994345 w= 0.1424847 b= 1.5726272\n",
      "Epoch: 601 cost= 0.11223757 w= 0.14510277 b= 1.5540663\n",
      "Epoch: 801 cost= 0.11056407 w= 0.147658 b= 1.5359507\n",
      "Epoch: 1001 cost= 0.10896988 w= 0.15015197 b= 1.5182697\n",
      "Epoch: 1201 cost= 0.10745127 w= 0.15258612 b= 1.5010128\n",
      "Epoch: 1401 cost= 0.106004626 w= 0.15496188 b= 1.4841697\n",
      "Epoch: 1601 cost= 0.10462654 w= 0.15728067 b= 1.4677305\n",
      "Epoch: 1801 cost= 0.103313774 w= 0.1595438 b= 1.4516859\n",
      "Epoch: 2001 cost= 0.10206326 w= 0.16175264 b= 1.4360262\n",
      "Epoch: 2201 cost= 0.10087196 w= 0.16390856 b= 1.4207417\n",
      "Epoch: 2401 cost= 0.099737175 w= 0.16601275 b= 1.4058241\n",
      "Epoch: 2601 cost= 0.098656125 w= 0.16806641 b= 1.3912643\n",
      "Epoch: 2801 cost= 0.09762635 w= 0.17007089 b= 1.3770536\n",
      "训练结束\n",
      "Epoch: 3000 cost= 0.096650146 w= 0.17201762 b= 1.3632522\n"
     ]
    },
    {
     "data": {
      "image/png": "[encoded data removed]",
      "text/plain": [
       "<Figure size 432x288 with 1 Axes>"
      ]
     },
     "metadata": {},
     "output_type": "display_data"
    }
   ],
   "source": [
    "import numpy as np\n",
    "import matplotlib.pyplot as plt\n",
    "import tensorflow as tf\n",
    "\n",
    "# 超参数\n",
    "learning_rate = 0.01\n",
    "training_epochs = 3000\n",
    "display_step = 200\n",
    "\n",
    "# 训练集\n",
    "train_X = np.array([3.3,4.4,5.5,6.71,6.93,4.168,9.779,6.182,7.59,2.167,7.042,10.791,5.313,7.997,5.654,9.27,3.1])\n",
    "train_Y = np.array([1.7,2.76,2.09,3.19,1.694,1.573,3.366,2.596,2.53,1.221,2.827,3.465,1.65,2.904,2.42,2.94,1.3])\n",
    "\n",
    "# 训练集样本数量\n",
    "n_samples = train_X.shape[0]\n",
    "\n",
    "# 模型的输入和输出，使用占位符，训练时传入\n",
    "X = tf.placeholder('float')\n",
    "Y = tf.placeholder('float')\n",
    "\n",
    "# 模型的参数（权重、偏差）\n",
    "w = tf.Variable(np.random.randn(), name='weight')\n",
    "b = tf.Variable(np.random.randn(), name='bias')\n",
    "\n",
    "# 定义线性模型\n",
    "activation = tf.add(tf.multiply(X, w), b)\n",
    "\n",
    "# 最小化平方误差\n",
    "cost = tf.reduce_sum(tf.pow(activation - Y, 2)) / (2 * n_samples) # L2 loss\n",
    "optimizer = tf.train.GradientDescentOptimizer(learning_rate).minimize(cost)\n",
    "\n",
    "# 构建初始化全部变量\n",
    "init = tf.initialize_all_variables()\n",
    "\n",
    "# 启动图\n",
    "with tf.Session() as sess:\n",
    "    sess.run(init)\n",
    "    \n",
    "    # 训练模型\n",
    "    for epoch in range(training_epochs):\n",
    "        sess.run(optimizer, feed_dict={X:train_X, Y:train_Y})\n",
    "\n",
    "        # 输出阶段训练结果\n",
    "        if epoch % display_step == 0:\n",
    "            print \"Epoch:\", epoch+1, \"cost=\", sess.run(cost, feed_dict={X:train_X, Y:train_Y}), \"w=\", sess.run(w), \"b=\", sess.run(b)\n",
    "\n",
    "    print '训练结束'\n",
    "    print \"Epoch:\", epoch+1, \"cost=\", sess.run(cost, feed_dict={X:train_X, Y:train_Y}), \"w=\", sess.run(w), \"b=\", sess.run(b)\n",
    "\n",
    "    plt.plot(train_X, train_Y, 'ro', label='original data')\n",
    "    plt.plot(train_X, sess.run(w) * train_X + sess.run(b), label='fitted line')\n",
    "    plt.legend()\n",
    "    plt.show()"
   ]
  }
 ],
 "metadata": {
  "kernelspec": {
   "display_name": "Python 2",
   "language": "python",
   "name": "python2"
  },
  "language_info": {
   "codemirror_mode": {
    "name": "ipython",
    "version": 2
   },
   "file_extension": ".py",
   "mimetype": "text/x-python",
   "name": "python",
   "nbconvert_exporter": "python",
   "pygments_lexer": "ipython2",
   "version": "2.7.15"
  }
 },
 "nbformat": 4,
 "nbformat_minor": 2
}
