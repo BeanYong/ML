{
 "cells": [
  {
   "cell_type": "markdown",
   "metadata": {},
   "source": [
    "### 文本预处理\n",
    "分词、去除停用词、按照一定的格式组装数据、并将处理好的数据保存到磁盘，后续进行复用"
   ]
  },
  {
   "cell_type": "code",
   "execution_count": 1,
   "metadata": {
    "scrolled": true
   },
   "outputs": [],
   "source": [
    "import os\n",
    "from sklearn.naive_bayes import MultinomialNB\n",
    "from sklearn.naive_bayes import GaussianNB\n",
    "from sklearn.naive_bayes import BernoulliNB\n",
    "import matplotlib.pyplot as plt"
   ]
  },
  {
   "cell_type": "markdown",
   "metadata": {},
   "source": [
    "### 从文件中读取词数据，并将词数据生成集合返回"
   ]
  },
  {
   "cell_type": "code",
   "execution_count": 2,
   "metadata": {},
   "outputs": [],
   "source": [
    "def make_word_set(words_file_path):\n",
    "    '''\n",
    "    从文件中读取词数据，并将词数据生成集合返回\n",
    "    :words_file_path 保存词数据的文件路径\n",
    "    :return 词集合\n",
    "    '''\n",
    "    words_set = set()\n",
    "    with open(words_file_path, 'r') as fp:\n",
    "        for line in fp.readlines():\n",
    "            word = line.strip().decode(\"utf-8\")\n",
    "            # 去掉重复的词\n",
    "            if len(word)>0 and word not in words_set:\n",
    "                words_set.add(word)\n",
    "    return words_set"
   ]
  },
  {
   "cell_type": "markdown",
   "metadata": {},
   "source": [
    "### 切词，并去除停用词，将切好的词分文件保存到磁盘，后续进行复用"
   ]
  },
  {
   "cell_type": "code",
   "execution_count": 3,
   "metadata": {},
   "outputs": [],
   "source": [
    "def word_cut(folder_path, stopwords_set=set()):\n",
    "    '''\n",
    "    切词，并去除停用词，将切好的词分文件保存到磁盘，后续进行复用\n",
    "    :folder_path 语料库路径\n",
    "    :stopwords_set 停用词集合，默认为空集\n",
    "    '''\n",
    "    import jieba\n",
    "    import jieba.posseg as posseg\n",
    "    \n",
    "    # 需要去除的词性\n",
    "    stop_flags = ('x', 'uj', 'ul', 'm', 'p', 'c', 't', 'l', 'd', 'ad')\n",
    "    # 允许保留的词性\n",
    "    allow_flags = ('v', 'n', 'a', 'ag', 'g', 'vg', 'ng', 'nr', 'ns', 'nt', 'nz', 'i')\n",
    "\n",
    "    # 分词-遍历文件夹，获取各个类别子目录的目录名称列表\n",
    "    folder_list = os.listdir(folder_path)\n",
    "\n",
    "    # 遍历类别子目录的目录名称\n",
    "    for folder in folder_list:\n",
    "        # 拼装类别子目录的路径\n",
    "        new_folder_path = os.path.join(folder_path, folder)\n",
    "        # 获取类别子目录下文本文件的名称列表\n",
    "        files = os.listdir(new_folder_path)\n",
    "        # 读取文本文件\n",
    "        for file in files:\n",
    "            # 拼装文本文件的路径，并读取文件\n",
    "            with open(os.path.join(new_folder_path, file), 'r') as fp:\n",
    "                # 获取文件内容\n",
    "                raw = fp.read()\n",
    "            #### 结巴分词 ####\n",
    "            # 开启并行分词模式，参数为并行进程数，不支持windows\n",
    "            jieba.enable_parallel(1)\n",
    "            # 精确模式分词，返回的结构是一个可以迭代的genertor\n",
    "            word_cut = posseg.cut(raw)\n",
    "            # 将分好的词生成对应目录存入磁盘，方便复用\n",
    "            # 如果目录不存在，创建目录\n",
    "            if not os.path.exists('/home/beanyon/Desktop/naive_bayes_classifier/segs/' + folder + '/'):\n",
    "                os.makedirs('/home/beanyon/Desktop/naive_bayes_classifier/segs/' + folder + '/')\n",
    "            # 把切好的词写入文件\n",
    "            with open('/home/beanyon/Desktop/naive_bayes_classifier/segs/' + folder + '/' + file, 'w') as f:\n",
    "                for word, flag in word_cut:\n",
    "                    # 使用停用词性过滤词\n",
    "                    #if flag not in stop_flags and not word.isdigit() and 1<len(word)<5 and word not in stop_words_set:\n",
    "                    # 使用允许词性过滤词\n",
    "                    if flag in allow_flags and not word.isdigit() and 1<len(word)<5 and word not in stopwords_set:\n",
    "                        # 把符合要求的词写入文件，并追加一个分隔符\n",
    "                        f.write((word + '|||').encode('utf-8'))\n",
    "            # 关闭并行分词模式\n",
    "            jieba.disable_parallel()"
   ]
  },
  {
   "cell_type": "markdown",
   "metadata": {},
   "source": [
    "### 从切好的词目录中读取样本（feature和label）"
   ]
  },
  {
   "cell_type": "code",
   "execution_count": 4,
   "metadata": {},
   "outputs": [],
   "source": [
    "def get_samples(dir_path):\n",
    "    '''\n",
    "    从切好的词目录中读取样本（feature和label）\n",
    "    :dir_path 词目录\n",
    "    '''\n",
    "    # 词特征集合\n",
    "    feature_list = []\n",
    "    # 标签集合\n",
    "    label_list = []\n",
    "    # 获取所有的类别子目录名称\n",
    "    folder_list = os.listdir(dir_path)\n",
    "    # 读取已经分好的词-遍历文件夹\n",
    "    for folder in folder_list:\n",
    "        # 组装类别子目录路径\n",
    "        new_folder_path = os.path.join(dir_path, folder)\n",
    "        # 获取类别子目录下的全部文件名\n",
    "        files = os.listdir(new_folder_path)\n",
    "        # 读取文件，获取feature和label\n",
    "        for file in files:\n",
    "            with open(os.path.join(new_folder_path, file), 'r') as fp:\n",
    "               raw = fp.read()\n",
    "            word_list = raw.split('|||') \n",
    "            # 将特征和标签分别加入集合\n",
    "            feature_list.append(word_list) #训练集list\n",
    "            label_list.append(folder.decode('utf-8')) #类别\n",
    "    return feature_list, label_list"
   ]
  },
  {
   "cell_type": "markdown",
   "metadata": {},
   "source": [
    "### 将样本集合分割为训练集和测试集，并分离特征和标签"
   ]
  },
  {
   "cell_type": "code",
   "execution_count": 5,
   "metadata": {},
   "outputs": [],
   "source": [
    "def split_samples(feature_label_list, test_size=0.2):\n",
    "    '''\n",
    "    将样本集合分割为训练集和测试集，并分离特征和标签\n",
    "    :feature_label_list 样本集合，特征和标签一一对应\n",
    "    :test_size 测试集所占的比例\n",
    "    :return 训练特征集合、训练标签集合、测试特征集合、测试标签集合\n",
    "    '''\n",
    "    import random\n",
    "    \n",
    "    # 打乱数据的顺序\n",
    "    random.shuffle(feature_label_list)\n",
    "    # 计算训练集和测试集的分割点\n",
    "    index = int(len(feature_label_list)*test_size)+1\n",
    "    # 划分训练集和测试集\n",
    "    train_list = feature_label_list[index:]\n",
    "    test_list = feature_label_list[:index]\n",
    "    # 分割feature和label\n",
    "    train_data_list, train_class_list = zip(*train_list)\n",
    "    test_data_list, test_class_list = zip(*test_list)\n",
    "    \n",
    "    # 统计训练集的词频放入all_words_dict\n",
    "    all_words_dict = {}\n",
    "    for word_list in train_data_list:\n",
    "        for word in word_list:\n",
    "            if all_words_dict.has_key(word):\n",
    "                all_words_dict[word] += 1\n",
    "            else:\n",
    "                all_words_dict[word] = 1\n",
    "\n",
    "    # key函数利用词频进行降序排序\n",
    "    all_words_tuple_list = sorted(all_words_dict.items(), key=lambda f:f[1], reverse=True) # 内建函数sorted参数需为list\n",
    "    all_words_list = list(zip(*all_words_tuple_list)[0])\n",
    "    return all_words_list, train_data_list, train_class_list, test_data_list, test_class_list"
   ]
  },
  {
   "cell_type": "markdown",
   "metadata": {},
   "source": [
    "### 将列表数据写入文件"
   ]
  },
  {
   "cell_type": "code",
   "execution_count": 6,
   "metadata": {},
   "outputs": [],
   "source": [
    "def write_list_to_file(file_path, list, separator):\n",
    "    '''\n",
    "    将列表数据写入文件\n",
    "    :file_path 要写入的路径\n",
    "    :list 需要写入的的列表\n",
    "    :separator 每项间的分隔符\n",
    "    '''\n",
    "    with open(file_path, 'w') as file:\n",
    "        file.write(separator.join(list))"
   ]
  },
  {
   "cell_type": "markdown",
   "metadata": {},
   "source": [
    "### 选取特征词"
   ]
  },
  {
   "cell_type": "code",
   "execution_count": 7,
   "metadata": {},
   "outputs": [],
   "source": [
    "def select_feature_words(all_words_list, deleteN, feature_dimen):\n",
    "    '''\n",
    "    选取特征词\n",
    "    :all_words_list 词袋全集\n",
    "    :deleteN 词偏移量（抛弃前N个词）\n",
    "    :feature_dimen 特征维度\n",
    "    :return 选取的特征词列表\n",
    "    '''\n",
    "    feature_words = []\n",
    "    n = 1\n",
    "    for t in range(deleteN, len(all_words_list), 1):\n",
    "        if n > feature_dimen: # feature_words的维度1000\n",
    "            break\n",
    "            \n",
    "        feature_words.append(all_words_list[t])\n",
    "        n += 1\n",
    "    return feature_words"
   ]
  },
  {
   "cell_type": "markdown",
   "metadata": {},
   "source": [
    "### 提取文档特征（向量化文档）"
   ]
  },
  {
   "cell_type": "code",
   "execution_count": 8,
   "metadata": {},
   "outputs": [],
   "source": [
    "def text_features(train_data_list, test_data_list, feature_words):\n",
    "    '''\n",
    "    提取文档特征（向量化文档）\n",
    "    :train_data_list 训练集全部feature\n",
    "    :test_data_list 测试集全部feature\n",
    "    :feature_words 从词袋中选取的特征词列表\n",
    "    :return 提取到的训练特征列表，提取到的测试特征列表\n",
    "    '''\n",
    "    def text_feature(text, feature_words):\n",
    "        '''\n",
    "        根据特征词列表生成每个文档的特征词向量\n",
    "        :text 分词后的文档\n",
    "        :feature_words 特征词空间\n",
    "        :return 特征词向量\n",
    "        '''\n",
    "        text_words = set(text)\n",
    "        features = [1 if word in text_words else 0 for word in feature_words]\n",
    "        return features\n",
    "    # 生成训练集的词向量\n",
    "    train_feature_list = [text_feature(text, feature_words) for text in train_data_list]\n",
    "    # 生成测试集的词向量\n",
    "    test_feature_list = [text_feature(text, feature_words) for text in test_data_list]\n",
    "    return train_feature_list, test_feature_list"
   ]
  },
  {
   "cell_type": "markdown",
   "metadata": {},
   "source": [
    "### 分类，并返回准确率"
   ]
  },
  {
   "cell_type": "code",
   "execution_count": 9,
   "metadata": {},
   "outputs": [],
   "source": [
    "def text_classifier(train_feature_list, test_feature_list, train_class_list, test_class_list, flag='MultinomialNB'):\n",
    "    '''\n",
    "    分类，并返回准确率\n",
    "    :train_feature_list 训练集特征\n",
    "    :test_feature_list 测试集特征\n",
    "    :train_class_list 训练集标签\n",
    "    :test_class_list 测试集标签\n",
    "    :return 分类器精度\n",
    "    '''\n",
    "    classifier = None\n",
    "    if flag == 'BernoulliNB':\n",
    "        # 伯努力朴素贝叶斯\n",
    "        classifier = BernoulliNB().fit(train_feature_list, train_class_list)\n",
    "    elif flag == 'GaussianNB':\n",
    "        # 高斯朴素贝叶斯\n",
    "        classifier = GaussianNB().fit(train_feature_list, train_class_list)\n",
    "    else:\n",
    "        # 多项式朴素贝叶斯\n",
    "        classifier = MultinomialNB().fit(train_feature_list, train_class_list)\n",
    "    test_accuracy = classifier.score(test_feature_list, test_class_list)\n",
    "    return test_accuracy"
   ]
  },
  {
   "cell_type": "markdown",
   "metadata": {},
   "source": [
    "### 寻找最好的词空间偏移量(即抛弃最前面的多少个词后精度最高)（仅在需要的时候独立执行）"
   ]
  },
  {
   "cell_type": "code",
   "execution_count": 10,
   "metadata": {},
   "outputs": [],
   "source": [
    "def find_best_word_offset(all_words_list, train_data_list, test_data_list, train_class_list, test_class_list, words_offset):\n",
    "    '''\n",
    "    寻找最好的词空间偏移量(即抛弃最前面的多少个词后精度最高)\n",
    "    :all_words_list 词袋全集\n",
    "    :train_data_list 训练集词特征列表\n",
    "    :test_data_list 测试集词特征列表\n",
    "    :train_class_list 训练集标签列表\n",
    "    :test_class_list 测试集标签列表\n",
    "    :words_offset 词偏移量\n",
    "    :return 分类精度集合\n",
    "    '''\n",
    "    # 步间隔为20，循环到偏移量为1000为止\n",
    "    deleteNs = range(0, 1000, 20)\n",
    "    # 存储50次偏移的对应预测精度\n",
    "    test_accuracy_list = []\n",
    "    # 以不同的偏移量进行训练和预测\n",
    "    for deleteN in deleteNs:\n",
    "        # 选取特征词\n",
    "        feature_words = select_feature_words(all_words_list, deleteN, words_offset)\n",
    "        # 提取文档特征（向量化文档）\n",
    "        train_feature_list, test_feature_list = text_features(train_data_list, test_data_list, feature_words)\n",
    "        # 预测并获取精度\n",
    "        test_accuracy = text_classifier(train_feature_list, test_feature_list, train_class_list, test_class_list, flag='MultinomialNB')\n",
    "        # 将精度添加到列表中\n",
    "        test_accuracy_list.append(test_accuracy)\n",
    "    \n",
    "    # 结果评价，绘制折线图\n",
    "    plt.plot(deleteNs, test_accuracy_list)\n",
    "    plt.title('Relationship of deleteNs and test_accuracy')\n",
    "    plt.xlabel('deleteNs')\n",
    "    plt.ylabel('test_accuracy')\n",
    "    plt.show()\n",
    "    return test_accuracy_list"
   ]
  },
  {
   "cell_type": "markdown",
   "metadata": {},
   "source": [
    "### 寻找最好的特征词空间大小(即从词袋中选取多少个特征词)（仅在需要的时候独立执行）"
   ]
  },
  {
   "cell_type": "code",
   "execution_count": 11,
   "metadata": {},
   "outputs": [],
   "source": [
    "def find_best_bag_size(all_words_list, train_data_list, test_data_list, train_class_list, test_class_list):\n",
    "    '''\n",
    "    寻找最好的词特征空间尺寸(即特征词空间一共包含多少个词)\n",
    "    :all_words_list 词袋全集\n",
    "    :train_data_list 训练集词特征列表\n",
    "    :test_data_list 测试集词特征列表\n",
    "    :train_class_list 训练集标签列表\n",
    "    :test_class_list 测试集标签列表\n",
    "    :return 分类精度集合\n",
    "    '''\n",
    "    # 步间隔为1000，循环到特征词空间大小为5000为止\n",
    "    bow_sizes = range(1000, 5000, 1000)\n",
    "    # 存储不同词特征空间尺寸下的精度\n",
    "    test_accuracy_list = []\n",
    "    # 以不同的特征词空间尺寸进行训练和预测\n",
    "    for bow_size in bow_sizes:\n",
    "       feature_words = select_feature_words(all_words_list, 0, bow_size)\n",
    "       train_feature_list, test_feature_list = text_features(train_data_list, test_data_list, feature_words)\n",
    "       test_accuracy = text_classifier(train_feature_list, test_feature_list, train_class_list, test_class_list, flag='MultinomialNB')\n",
    "       test_accuracy_list.append(test_accuracy)\n",
    "        \n",
    "    # 结果评价，绘制折线图\n",
    "    plt.plot(bow_sizes, test_accuracy_list)\n",
    "    plt.title('Relationship of bow_sizes and test_accuracy')\n",
    "    plt.xlabel('bow_sizes')\n",
    "    plt.ylabel('test_accuracy')\n",
    "    plt.show()\n",
    "    return test_accuracy_list"
   ]
  },
  {
   "cell_type": "markdown",
   "metadata": {},
   "source": [
    "### 使用训练集和测试集进行训练并测试"
   ]
  },
  {
   "cell_type": "code",
   "execution_count": 12,
   "metadata": {},
   "outputs": [],
   "source": [
    "def classify(all_words_list, train_data_list, test_data_list, train_class_list, test_class_list):\n",
    "    '''\n",
    "    使用训练集和测试集进行训练并测试\n",
    "    :all_words_list 词袋全集\n",
    "    :train_data_list 训练集词特征列表\n",
    "    :test_data_list 测试集词特征列表\n",
    "    :train_class_list 训练集标签列表\n",
    "    :test_class_list 测试集标签列表\n",
    "    :return 分类精度集合\n",
    "    '''\n",
    "    feature_words = select_feature_words(all_words_list, 0, 5000)\n",
    "    train_feature_list, test_feature_list = text_features(train_data_list, test_data_list, feature_words)\n",
    "    test_accuracy = text_classifier(train_feature_list, test_feature_list, train_class_list, test_class_list, flag='MultinomialNB')\n",
    "    return test_accuracy"
   ]
  },
  {
   "cell_type": "markdown",
   "metadata": {},
   "source": [
    "### 切词，去除停用词后保存到磁盘，方便复用（仅在需要分词的时候执行）"
   ]
  },
  {
   "cell_type": "code",
   "execution_count": 13,
   "metadata": {},
   "outputs": [
    {
     "name": "stderr",
     "output_type": "stream",
     "text": [
      "Building prefix dict from the default dictionary ...\n",
      "Loading model from cache /tmp/jieba.cache\n",
      "Loading model cost 0.166 seconds.\n",
      "Prefix dict has been built succesfully.\n"
     ]
    },
    {
     "name": "stdout",
     "output_type": "stream",
     "text": [
      "CPU times: user 11min 5s, sys: 16min 46s, total: 27min 51s\n",
      "Wall time: 2h 37min 8s\n"
     ]
    }
   ],
   "source": [
    "%%time\n",
    "# 读取停用词，生成停用词集合\n",
    "stopwords_file_path = '/home/beanyon/Desktop/naive_bayes_classifier/stopwords_cn.txt'\n",
    "stopwords_set = make_word_set(stopwords_file_path)\n",
    "# 切词、去除停用词后保存，方便复用\n",
    "folder_path = '/home/beanyon/Desktop/naive_bayes_classifier/Database/SogouC/Sample.20000'\n",
    "word_cut(folder_path, stopwords_set)"
   ]
  },
  {
   "cell_type": "markdown",
   "metadata": {},
   "source": [
    "### 进行一次完整的训练和测试流程"
   ]
  },
  {
   "cell_type": "code",
   "execution_count": null,
   "metadata": {},
   "outputs": [],
   "source": [
    "%%time\n",
    "# 从切好的词目录中获取特征和样本\n",
    "seg_dir = '/home/beanyon/Desktop/naive_bayes_classifier/segs/'\n",
    "feature_list, label_list = get_samples(seg_dir)\n",
    "# 合并样本和对应标签\n",
    "feature_label_list = zip(feature_list, label_list)\n",
    "# 将样本集合分割为训练集和测试集，并分离特征和标签\n",
    "all_words_list, train_data_list, train_class_list, test_data_list, test_class_list = split_samples(\n",
    "    feature_label_list, 0.4)\n",
    "# 将切分好的训练集词袋全集写入文件\n",
    "words_bag_path = '/home/beanyon/Desktop/naive_bayes_classifier/all_words_list.txt'\n",
    "write_list_to_file(words_bag_path, all_words_list, '\\n')\n",
    "\n",
    "# 使用训练集和测试集进行训练并测试\n",
    "test_accuracy = classify(all_words_list, train_data_list, test_data_list, train_class_list, test_class_list)\n",
    "print test_accuracy"
   ]
  },
  {
   "cell_type": "markdown",
   "metadata": {},
   "source": [
    "### 寻找最好的词空间偏移量(即抛弃最前面的多少个词后精度最高)（仅在需要的时候独立执行）"
   ]
  },
  {
   "cell_type": "code",
   "execution_count": 17,
   "metadata": {},
   "outputs": [
    {
     "data": {
      "image/png": "[encoded data removed]",
      "text/plain": [
       "<Figure size 432x288 with 1 Axes>"
      ]
     },
     "metadata": {},
     "output_type": "display_data"
    },
    {
     "name": "stdout",
     "output_type": "stream",
     "text": [
      "[0.8852747502270663, 0.8799670753860127, 0.8778667120799274, 0.8778099455040872, 0.8784627611262489, 0.8782356948228883, 0.8793710263396912, 0.8784059945504087, 0.8768449137148048, 0.8722184377838329, 0.8734673024523161, 0.8736092188919165, 0.8724171207992734, 0.871906221616712, 0.8723887375113533, 0.8715372388737511, 0.8692665758401453, 0.8681596276112625, 0.8681596276112625, 0.8679041780199819, 0.8685569936421436, 0.8679325613079019, 0.8675635785649409, 0.8651509990917348, 0.8633060853769301, 0.862113987284287, 0.8612341053587648, 0.8622275204359673, 0.8625965031789282, 0.8608083560399636, 0.8600703905540418, 0.8596162579473207, 0.8591905086285195, 0.8596162579473207, 0.8595878746594006, 0.860552906448683, 0.8608935059037239, 0.8608651226158038, 0.8610638056312443, 0.8611773387829246, 0.8614895549500454, 0.8612908719346049, 0.8603542234332425, 0.8610638056312443, 0.8602406902815622, 0.8580551771117166, 0.8560399636693915, 0.8562954132606722, 0.8554155313351499, 0.8535990009082652]\n",
      "CPU times: user 14min 41s, sys: 55.1 s, total: 15min 36s\n",
      "Wall time: 13min 48s\n"
     ]
    }
   ],
   "source": [
    "%%time\n",
    "# 寻找最好的词空间偏移量(即抛弃最前面的多少个词后精度最高)\n",
    "test_accuracy_list = find_best_word_offset(all_words_list,\n",
    "                                           train_data_list,\n",
    "                                           test_data_list, \n",
    "                                           train_class_list,\n",
    "                                           test_class_list,\n",
    "                                           2000)\n",
    "print test_accuracy_list"
   ]
  },
  {
   "cell_type": "markdown",
   "metadata": {},
   "source": [
    "### 寻找最好的特征词空间大小(即从词袋中选取多少个特征词)（仅在需要的时候独立执行）"
   ]
  },
  {
   "cell_type": "code",
   "execution_count": 18,
   "metadata": {},
   "outputs": [
    {
     "data": {
      "image/png": "[encoded data removed]",
      "text/plain": [
       "<Figure size 432x288 with 1 Axes>"
      ]
     },
     "metadata": {},
     "output_type": "display_data"
    },
    {
     "name": "stdout",
     "output_type": "stream",
     "text": [
      "[0.8642143505903724, 0.8815565395095368, 0.8882549954586739, 0.892966621253406]\n",
      "CPU times: user 1min 25s, sys: 7.19 s, total: 1min 33s\n",
      "Wall time: 1min 23s\n"
     ]
    }
   ],
   "source": [
    "%%time\n",
    "# 寻找最好的特征词空间大小(即从词袋中选取多少个特征词)\n",
    "test_accuracy_list = find_best_bag_size(all_words_list,\n",
    "                                        train_data_list,\n",
    "                                        test_data_list, \n",
    "                                        train_class_list,\n",
    "                                        test_class_list)\n",
    "print test_accuracy_list"
   ]
  },
  {
   "cell_type": "code",
   "execution_count": null,
   "metadata": {},
   "outputs": [],
   "source": []
  }
 ],
 "metadata": {
  "kernelspec": {
   "display_name": "Python 2",
   "language": "python",
   "name": "python2"
  },
  "language_info": {
   "codemirror_mode": {
    "name": "ipython",
    "version": 2
   },
   "file_extension": ".py",
   "mimetype": "text/x-python",
   "name": "python",
   "nbconvert_exporter": "python",
   "pygments_lexer": "ipython2",
   "version": "2.7.15"
  }
 },
 "nbformat": 4,
 "nbformat_minor": 2
}
