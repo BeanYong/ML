{
 "cells": [
  {
   "cell_type": "markdown",
   "metadata": {},
   "source": [
    "### 训练fasttext模型，并保存"
   ]
  },
  {
   "cell_type": "code",
   "execution_count": 1,
   "metadata": {},
   "outputs": [],
   "source": [
    "def fasttext_train(train_set_path, model_path):\n",
    "    '''\n",
    "    训练fasttext模型，并保存\n",
    "    :train_set_path 训练集文本路径\n",
    "    :model_path 训练好的模型保存的路径\n",
    "    :return 训练好的fasttext模型\n",
    "    '''\n",
    "    import fasttext\n",
    "    return fasttext.supervised(train_set_path, \n",
    "                               model_path, \n",
    "                               label_prefix='__label__')"
   ]
  },
  {
   "cell_type": "markdown",
   "metadata": {},
   "source": [
    "### 加载已经训练好的模型"
   ]
  },
  {
   "cell_type": "code",
   "execution_count": 2,
   "metadata": {},
   "outputs": [],
   "source": [
    "def load_model(model_path):\n",
    "    '''\n",
    "    加载已经训练好的模型\n",
    "    :model_path 训练好的模型保存的路径\n",
    "    :return 训练好的fasttext模型\n",
    "    '''\n",
    "    import fasttext\n",
    "    return fasttext.load_model(model_path, label_prefix='__label__')"
   ]
  },
  {
   "cell_type": "code",
   "execution_count": 3,
   "metadata": {},
   "outputs": [
    {
     "name": "stdout",
     "output_type": "stream",
     "text": [
      "0.920653193898\n",
      "0.920653193898\n",
      "CPU times: user 2min 54s, sys: 1.53 s, total: 2min 55s\n",
      "Wall time: 36.2 s\n"
     ]
    }
   ],
   "source": [
    "%%time\n",
    "# 训练集文本路径\n",
    "train_set_path = '/home/beanyon/Desktop/fasttext/news_fasttext_train.txt'\n",
    "# 测试集文本路径\n",
    "test_set_path = '/home/beanyon/Desktop/fasttext/news_fasttext_test.txt'\n",
    "# 训练好的模型保存的路径\n",
    "model_path_save = '/home/beanyon/Desktop/fasttext/news_fasttext.model'\n",
    "# 加载训练好的模型的路径\n",
    "model_path_load = '/home/beanyon/Desktop/fasttext/news_fasttext.model.bin'\n",
    "# 训练并保存模型\n",
    "classifier = fasttext_train(train_set_path, model_path_save)\n",
    "# 加载已经训练好的模型\n",
    "#classifier = load_model(model_path_load)\n",
    "# 在测试集上测试\n",
    "result = classifier.test(test_set_path)\n",
    "# 打印精度\n",
    "print result.precision\n",
    "# 打印召回率\n",
    "print result.recall"
   ]
  }
 ],
 "metadata": {
  "kernelspec": {
   "display_name": "Python 2",
   "language": "python",
   "name": "python2"
  },
  "language_info": {
   "codemirror_mode": {
    "name": "ipython",
    "version": 2
   },
   "file_extension": ".py",
   "mimetype": "text/x-python",
   "name": "python",
   "nbconvert_exporter": "python",
   "pygments_lexer": "ipython2",
   "version": "2.7.15"
  }
 },
 "nbformat": 4,
 "nbformat_minor": 2
}
